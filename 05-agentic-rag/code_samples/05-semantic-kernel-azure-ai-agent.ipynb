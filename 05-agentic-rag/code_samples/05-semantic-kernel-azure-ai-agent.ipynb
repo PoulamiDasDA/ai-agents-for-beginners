{
 "cells": [
  {
   "cell_type": "markdown",
   "metadata": {},
   "source": [
    "# RAG Using Azure AI Agent Service & Semantic Kernel\n",
    "\n",
    "This code snippet demonstrates how to create and manage an Azure AI agent for retrieval-augmented generation (RAG) using the `Azure AI Agent Service` and `Semantic Kernel`. The agent processes user queries based on the retrieved context and provides accurate responses accordingly."
   ]
  },
  {
   "cell_type": "markdown",
   "metadata": {},
   "source": [
    "## Initializing the Environment"
   ]
  },
  {
   "cell_type": "markdown",
   "metadata": {},
   "source": [
    "SQLite Version Fix\n",
    "If you encounter the error:\n",
    "```\n",
    "RuntimeError: Your system has an unsupported version of sqlite3. Chroma requires sqlite3 >= 3.35.0\n",
    "```\n",
    "\n",
    "Uncomment this code block at the start of your notebook:"
   ]
  },
  {
   "cell_type": "code",
   "execution_count": null,
   "metadata": {},
   "outputs": [],
   "source": [
    "# %pip install pysqlite3-binary\n",
    "# __import__('pysqlite3')\n",
    "# import sys\n",
    "# sys.modules['sqlite3'] = sys.modules.pop('pysqlite3')"
   ]
  },
  {
   "cell_type": "markdown",
   "metadata": {},
   "source": [
    "### Importing Packages\n",
    "The following code imports the necessary packages:"
   ]
  },
  {
   "cell_type": "code",
   "execution_count": 3,
   "metadata": {},
   "outputs": [
    {
     "name": "stdout",
     "output_type": "stream",
     "text": [
      "1.0.0b11\n"
     ]
    }
   ],
   "source": [
    "import azure.ai.projects\n",
    "print(azure.ai.projects.__version__)"
   ]
  },
  {
   "cell_type": "code",
   "execution_count": 4,
   "metadata": {},
   "outputs": [
    {
     "name": "stdout",
     "output_type": "stream",
     "text": [
      "Requirement already satisfied: azure-ai-projects in /workspaces/ai-agents-for-beginners/.venv/lib/python3.13/site-packages (1.0.0b11)\n",
      "Collecting azure-ai-projects\n",
      "  Downloading azure_ai_projects-1.0.0b12-py3-none-any.whl.metadata (22 kB)\n",
      "Requirement already satisfied: isodate>=0.6.1 in /workspaces/ai-agents-for-beginners/.venv/lib/python3.13/site-packages (from azure-ai-projects) (0.7.2)\n",
      "Requirement already satisfied: azure-core>=1.30.0 in /workspaces/ai-agents-for-beginners/.venv/lib/python3.13/site-packages (from azure-ai-projects) (1.35.0)\n",
      "Requirement already satisfied: typing-extensions>=4.12.2 in /workspaces/ai-agents-for-beginners/.venv/lib/python3.13/site-packages (from azure-ai-projects) (4.14.1)\n",
      "Requirement already satisfied: azure-storage-blob>=12.15.0 in /workspaces/ai-agents-for-beginners/.venv/lib/python3.13/site-packages (from azure-ai-projects) (12.26.0)\n",
      "Requirement already satisfied: azure-ai-agents>=1.0.0 in /workspaces/ai-agents-for-beginners/.venv/lib/python3.13/site-packages (from azure-ai-projects) (1.1.0b4)\n",
      "Requirement already satisfied: requests>=2.21.0 in /workspaces/ai-agents-for-beginners/.venv/lib/python3.13/site-packages (from azure-core>=1.30.0->azure-ai-projects) (2.32.4)\n",
      "Requirement already satisfied: six>=1.11.0 in /workspaces/ai-agents-for-beginners/.venv/lib/python3.13/site-packages (from azure-core>=1.30.0->azure-ai-projects) (1.17.0)\n",
      "Requirement already satisfied: cryptography>=2.1.4 in /workspaces/ai-agents-for-beginners/.venv/lib/python3.13/site-packages (from azure-storage-blob>=12.15.0->azure-ai-projects) (45.0.5)\n",
      "Requirement already satisfied: cffi>=1.14 in /workspaces/ai-agents-for-beginners/.venv/lib/python3.13/site-packages (from cryptography>=2.1.4->azure-storage-blob>=12.15.0->azure-ai-projects) (1.17.1)\n",
      "Requirement already satisfied: pycparser in /workspaces/ai-agents-for-beginners/.venv/lib/python3.13/site-packages (from cffi>=1.14->cryptography>=2.1.4->azure-storage-blob>=12.15.0->azure-ai-projects) (2.22)\n",
      "Requirement already satisfied: charset_normalizer<4,>=2 in /workspaces/ai-agents-for-beginners/.venv/lib/python3.13/site-packages (from requests>=2.21.0->azure-core>=1.30.0->azure-ai-projects) (3.4.2)\n",
      "Requirement already satisfied: idna<4,>=2.5 in /workspaces/ai-agents-for-beginners/.venv/lib/python3.13/site-packages (from requests>=2.21.0->azure-core>=1.30.0->azure-ai-projects) (3.10)\n",
      "Requirement already satisfied: urllib3<3,>=1.21.1 in /workspaces/ai-agents-for-beginners/.venv/lib/python3.13/site-packages (from requests>=2.21.0->azure-core>=1.30.0->azure-ai-projects) (2.5.0)\n",
      "Requirement already satisfied: certifi>=2017.4.17 in /workspaces/ai-agents-for-beginners/.venv/lib/python3.13/site-packages (from requests>=2.21.0->azure-core>=1.30.0->azure-ai-projects) (2025.7.14)\n",
      "Downloading azure_ai_projects-1.0.0b12-py3-none-any.whl (129 kB)\n",
      "Installing collected packages: azure-ai-projects\n",
      "  Attempting uninstall: azure-ai-projects\n",
      "    Found existing installation: azure-ai-projects 1.0.0b11\n",
      "    Uninstalling azure-ai-projects-1.0.0b11:\n",
      "      Successfully uninstalled azure-ai-projects-1.0.0b11\n",
      "Successfully installed azure-ai-projects-1.0.0b12\n",
      "Note: you may need to restart the kernel to use updated packages.\n"
     ]
    }
   ],
   "source": [
    "pip install --upgrade azure-ai-projects"
   ]
  },
  {
   "cell_type": "code",
   "execution_count": 1,
   "metadata": {},
   "outputs": [
    {
     "name": "stdout",
     "output_type": "stream",
     "text": [
      "1.0.0b12\n"
     ]
    }
   ],
   "source": [
    "import azure.ai.projects\n",
    "print(azure.ai.projects.__version__)"
   ]
  },
  {
   "cell_type": "code",
   "execution_count": 4,
   "metadata": {},
   "outputs": [
    {
     "name": "stdout",
     "output_type": "stream",
     "text": [
      "['AgentEvaluation', 'AgentEvaluationRedactionConfiguration', 'AgentEvaluationRequest', 'AgentEvaluationResult', 'AgentEvaluationSamplingConfiguration', 'ApiKeyCredentials', 'AssetCredentialResponse', 'AttackStrategy', 'AzureAISearchIndex', 'AzureOpenAIModelConfiguration', 'BaseCredentials', 'BlobReference', 'Connection', 'ConnectionType', 'CosmosDBIndex', 'CredentialType', 'CustomCredential', 'DatasetType', 'DatasetVersion', 'Deployment', 'DeploymentType', 'EmbeddingConfiguration', 'EntraIDCredentials', 'Evaluation', 'EvaluatorConfiguration', 'EvaluatorIds', 'FieldMapping', 'FileDatasetVersion', 'FolderDatasetVersion', 'Index', 'IndexType', 'InputData', 'InputDataset', 'ManagedAzureAISearchIndex', 'ModelDeployment', 'NoAuthenticationCredentials', 'PendingUploadRequest', 'PendingUploadResponse', 'PendingUploadType', 'RedTeam', 'RiskCategory', 'SASCredentials', 'SasCredential', 'Sku', 'TYPE_CHECKING', 'TargetConfig', '__all__', '__builtins__', '__cached__', '__doc__', '__file__', '__loader__', '__name__', '__package__', '__path__', '__spec__', '_enums', '_models', '_patch', '_patch_all', '_patch_evaluations', '_patch_sdk']\n"
     ]
    }
   ],
   "source": [
    "import azure.ai.projects.models\n",
    "print(dir(azure.ai.projects.models))"
   ]
  },
  {
   "cell_type": "code",
   "execution_count": 8,
   "metadata": {},
   "outputs": [],
   "source": [
    "# Azure imports for project client and credentials\n",
    "from azure.ai.projects.models import FileDatasetVersion, AzureAISearchIndex, AzureOpenAIModelConfiguration\n",
    "from azure.identity.aio import DefaultAzureCredential\n",
    "import os\n",
    "\n",
    "# Semantic Kernel imports\n",
    "from semantic_kernel.agents import AzureAIAgent, AzureAIAgentThread"
   ]
  },
  {
   "cell_type": "markdown",
   "metadata": {},
   "source": [
    "# Retrieval-Augmented Generation with Semantic Kernel & Azure AI Agent Service\n",
    "\n",
    "This sample demonstrates how to use the **Azure AI Agent Service** to perform **Retrieval-Augmented Generation (RAG)** by combining a language model with domain-specific context from an uploaded document.\n",
    "\n",
    "### How It Works\n",
    "\n",
    "1. **Document Upload**: A markdown file (document.md) containing information (Contoso's travel insurance policy) is uploaded to the agent service.\n",
    "\n",
    "2. **Vector Store Creation**: The document is indexed into a vector store to enable semantic search over its contents.\n",
    "\n",
    "3. **Agent Configuration**: An agent is instantiated using the `gpt-4o` model with the following strict instructions:\n",
    "   - Only answer questions based on retrieved content from the document.\n",
    "   - Decline to answer if the question is out of scope.\n",
    "\n",
    "4. **File Search Tool Integration**: The `FileSearchTool` is registered with the agent, enabling the model to search and retrieve relevant snippets from the indexed document during inference.\n",
    "\n",
    "5. **User Interaction**: Users can ask questions. If relevant information is found in the document, the agent generates a grounded answer.  \n",
    "   If not, the agent explicitly responds that the document does not contain sufficient information.\n"
   ]
  },
  {
   "cell_type": "markdown",
   "metadata": {},
   "source": [
    "### Main Function\n"
   ]
  },
  {
   "cell_type": "markdown",
   "metadata": {},
   "source": [
    "Make sure to first run `az login` using the Azure CLI so that the proper authentication context is provided while using the `DefaultAzureCredential`. The Azure AI Agent Service does not use API keys."
   ]
  },
  {
   "cell_type": "code",
   "execution_count": 9,
   "metadata": {},
   "outputs": [
    {
     "name": "stderr",
     "output_type": "stream",
     "text": [
      "DefaultAzureCredential failed to retrieve a token from the included credentials.\n",
      "Attempted credentials:\n",
      "\tEnvironmentCredential: EnvironmentCredential authentication unavailable. Environment variables are not fully configured.\n",
      "Visit https://aka.ms/azsdk/python/identity/environmentcredential/troubleshoot to troubleshoot this issue.\n",
      "\tManagedIdentityCredential: ManagedIdentityCredential authentication unavailable. The requested identity has not been assigned to this resource. Error: Unexpected response \"{'error': 'invalid_request', 'error_description': 'Identity not found'}\"\n",
      "\tSharedTokenCacheCredential: SharedTokenCacheCredential authentication unavailable. No accounts were found in the cache.\n",
      "\tAzureCliCredential: ERROR: AADSTS70043: The refresh token has expired or is invalid due to sign-in frequency checks by conditional access. The token was issued on 2025-07-18T03:03:45.4791579Z and the maximum allowed lifetime for this request is 43200. Trace ID: 98c9c620-c92e-4c82-bef9-ac5199332c00 Correlation ID: ea14d151-4fc4-4e64-8068-96f3f51a97ca Timestamp: 2025-07-22 02:43:21Z\n",
      "Interactive authentication is needed. Please run:\n",
      "az login --scope https://ai.azure.com/.default\n",
      "\n",
      "\tAzurePowerShellCredential: PowerShell is not installed\n",
      "\tAzureDeveloperCliCredential: Azure Developer CLI could not be found. Please visit https://aka.ms/azure-dev for installation instructions and then,once installed, authenticate to your Azure account using 'azd auth login'.\n",
      "To mitigate this issue, please refer to the troubleshooting guidelines here at https://aka.ms/azsdk/python/identity/defaultazurecredential/troubleshoot.\n"
     ]
    },
    {
     "ename": "ClientAuthenticationError",
     "evalue": "DefaultAzureCredential failed to retrieve a token from the included credentials.\nAttempted credentials:\n\tEnvironmentCredential: EnvironmentCredential authentication unavailable. Environment variables are not fully configured.\nVisit https://aka.ms/azsdk/python/identity/environmentcredential/troubleshoot to troubleshoot this issue.\n\tManagedIdentityCredential: ManagedIdentityCredential authentication unavailable. The requested identity has not been assigned to this resource. Error: Unexpected response \"{'error': 'invalid_request', 'error_description': 'Identity not found'}\"\n\tSharedTokenCacheCredential: SharedTokenCacheCredential authentication unavailable. No accounts were found in the cache.\n\tAzureCliCredential: ERROR: AADSTS70043: The refresh token has expired or is invalid due to sign-in frequency checks by conditional access. The token was issued on 2025-07-18T03:03:45.4791579Z and the maximum allowed lifetime for this request is 43200. Trace ID: 98c9c620-c92e-4c82-bef9-ac5199332c00 Correlation ID: ea14d151-4fc4-4e64-8068-96f3f51a97ca Timestamp: 2025-07-22 02:43:21Z\nInteractive authentication is needed. Please run:\naz login --scope https://ai.azure.com/.default\n\n\tAzurePowerShellCredential: PowerShell is not installed\n\tAzureDeveloperCliCredential: Azure Developer CLI could not be found. Please visit https://aka.ms/azure-dev for installation instructions and then,once installed, authenticate to your Azure account using 'azd auth login'.\nTo mitigate this issue, please refer to the troubleshooting guidelines here at https://aka.ms/azsdk/python/identity/defaultazurecredential/troubleshoot.",
     "output_type": "error",
     "traceback": [
      "\u001b[31m---------------------------------------------------------------------------\u001b[39m",
      "\u001b[31mClientAuthenticationError\u001b[39m                 Traceback (most recent call last)",
      "\u001b[36mCell\u001b[39m\u001b[36m \u001b[39m\u001b[32mIn[9]\u001b[39m\u001b[32m, line 71\u001b[39m\n\u001b[32m     68\u001b[39m             \u001b[38;5;28;01mawait\u001b[39;00m client.agents.delete_agent(agent.id)\n\u001b[32m     69\u001b[39m             \u001b[38;5;28mprint\u001b[39m(\u001b[33m\"\u001b[39m\u001b[38;5;130;01m\\n\u001b[39;00m\u001b[33mCleaned up agent, thread, file, and vector store.\u001b[39m\u001b[33m\"\u001b[39m)\n\u001b[32m---> \u001b[39m\u001b[32m71\u001b[39m \u001b[38;5;28;01mawait\u001b[39;00m main()\n",
      "\u001b[36mCell\u001b[39m\u001b[36m \u001b[39m\u001b[32mIn[9]\u001b[39m\u001b[32m, line 6\u001b[39m, in \u001b[36mmain\u001b[39m\u001b[34m()\u001b[39m\n\u001b[32m      1\u001b[39m \u001b[38;5;28;01masync\u001b[39;00m \u001b[38;5;28;01mdef\u001b[39;00m\u001b[38;5;250m \u001b[39m\u001b[34mmain\u001b[39m():\n\u001b[32m      2\u001b[39m     \u001b[38;5;28;01masync\u001b[39;00m \u001b[38;5;28;01mwith\u001b[39;00m (\n\u001b[32m      3\u001b[39m         DefaultAzureCredential() \u001b[38;5;28;01mas\u001b[39;00m creds,\n\u001b[32m      4\u001b[39m         AzureAIAgent.create_client(credential=creds,endpoint=os.environ.get(\u001b[33m\"\u001b[39m\u001b[33mAZURE_OPENAI_ENDPOINT\u001b[39m\u001b[33m\"\u001b[39m)) \u001b[38;5;28;01mas\u001b[39;00m client,\n\u001b[32m      5\u001b[39m     ):\n\u001b[32m----> \u001b[39m\u001b[32m6\u001b[39m         file: FileDatasetVersion = \u001b[38;5;28;01mawait\u001b[39;00m client.agents.files.upload_and_poll(file_path=\u001b[33m\"\u001b[39m\u001b[33mdocument.md\u001b[39m\u001b[33m\"\u001b[39m, purpose=\u001b[33m\"\u001b[39m\u001b[33massistants\u001b[39m\u001b[33m\"\u001b[39m)\n\u001b[32m      7\u001b[39m         vector_store: AzureAISearchIndex = \u001b[38;5;28;01mawait\u001b[39;00m client.agents.create_vector_store_and_poll(\n\u001b[32m      8\u001b[39m             file_ids=[file.id], name=\u001b[33m\"\u001b[39m\u001b[33mmy_vectorstore\u001b[39m\u001b[33m\"\u001b[39m\n\u001b[32m      9\u001b[39m         )\n\u001b[32m     11\u001b[39m         \u001b[38;5;66;03m# Define agent name and instructions tailored for RAG.\u001b[39;00m\n",
      "\u001b[36mFile \u001b[39m\u001b[32m/workspaces/ai-agents-for-beginners/.venv/lib/python3.13/site-packages/azure/core/tracing/decorator_async.py:119\u001b[39m, in \u001b[36mdistributed_trace_async.<locals>.decorator.<locals>.wrapper_use_tracer\u001b[39m\u001b[34m(*args, **kwargs)\u001b[39m\n\u001b[32m    117\u001b[39m \u001b[38;5;66;03m# If tracing is disabled globally and user didn't explicitly enable it, don't trace.\u001b[39;00m\n\u001b[32m    118\u001b[39m \u001b[38;5;28;01mif\u001b[39;00m user_enabled \u001b[38;5;129;01mis\u001b[39;00m \u001b[38;5;28;01mFalse\u001b[39;00m \u001b[38;5;129;01mor\u001b[39;00m (\u001b[38;5;129;01mnot\u001b[39;00m tracing_enabled \u001b[38;5;129;01mand\u001b[39;00m user_enabled \u001b[38;5;129;01mis\u001b[39;00m \u001b[38;5;28;01mNone\u001b[39;00m):\n\u001b[32m--> \u001b[39m\u001b[32m119\u001b[39m     \u001b[38;5;28;01mreturn\u001b[39;00m \u001b[38;5;28;01mawait\u001b[39;00m func(*args, **kwargs)\n\u001b[32m    121\u001b[39m \u001b[38;5;66;03m# Merge span is parameter is set, but only if no explicit parent are passed\u001b[39;00m\n\u001b[32m    122\u001b[39m \u001b[38;5;28;01mif\u001b[39;00m merge_span \u001b[38;5;129;01mand\u001b[39;00m \u001b[38;5;129;01mnot\u001b[39;00m passed_in_parent:\n",
      "\u001b[36mFile \u001b[39m\u001b[32m/workspaces/ai-agents-for-beginners/.venv/lib/python3.13/site-packages/azure/ai/agents/aio/operations/_patch.py:1563\u001b[39m, in \u001b[36mFilesOperations.upload_and_poll\u001b[39m\u001b[34m(self, body, file, file_path, purpose, filename, polling_interval, timeout, **kwargs)\u001b[39m\n\u001b[32m   1561\u001b[39m     uploaded_file = \u001b[38;5;28;01mawait\u001b[39;00m \u001b[38;5;28mself\u001b[39m.upload(file=file, purpose=purpose, filename=filename, **kwargs)\n\u001b[32m   1562\u001b[39m \u001b[38;5;28;01melif\u001b[39;00m file_path \u001b[38;5;129;01mis\u001b[39;00m \u001b[38;5;129;01mnot\u001b[39;00m \u001b[38;5;28;01mNone\u001b[39;00m \u001b[38;5;129;01mand\u001b[39;00m purpose \u001b[38;5;129;01mis\u001b[39;00m \u001b[38;5;129;01mnot\u001b[39;00m \u001b[38;5;28;01mNone\u001b[39;00m:\n\u001b[32m-> \u001b[39m\u001b[32m1563\u001b[39m     uploaded_file = \u001b[38;5;28;01mawait\u001b[39;00m \u001b[38;5;28mself\u001b[39m.upload(file_path=file_path, purpose=purpose, **kwargs)\n\u001b[32m   1564\u001b[39m \u001b[38;5;28;01melse\u001b[39;00m:\n\u001b[32m   1565\u001b[39m     \u001b[38;5;28;01mraise\u001b[39;00m \u001b[38;5;167;01mValueError\u001b[39;00m(\n\u001b[32m   1566\u001b[39m         \u001b[33m\"\u001b[39m\u001b[33mInvalid parameters for upload_and_poll. Please provide either \u001b[39m\u001b[33m'\u001b[39m\u001b[33mbody\u001b[39m\u001b[33m'\u001b[39m\u001b[33m, \u001b[39m\u001b[33m\"\u001b[39m\n\u001b[32m   1567\u001b[39m         \u001b[33m\"\u001b[39m\u001b[33mor both \u001b[39m\u001b[33m'\u001b[39m\u001b[33mfile\u001b[39m\u001b[33m'\u001b[39m\u001b[33m and \u001b[39m\u001b[33m'\u001b[39m\u001b[33mpurpose\u001b[39m\u001b[33m'\u001b[39m\u001b[33m, or both \u001b[39m\u001b[33m'\u001b[39m\u001b[33mfile_path\u001b[39m\u001b[33m'\u001b[39m\u001b[33m and \u001b[39m\u001b[33m'\u001b[39m\u001b[33mpurpose\u001b[39m\u001b[33m'\u001b[39m\u001b[33m.\u001b[39m\u001b[33m\"\u001b[39m\n\u001b[32m   1568\u001b[39m     )\n",
      "\u001b[36mFile \u001b[39m\u001b[32m/workspaces/ai-agents-for-beginners/.venv/lib/python3.13/site-packages/azure/core/tracing/decorator_async.py:119\u001b[39m, in \u001b[36mdistributed_trace_async.<locals>.decorator.<locals>.wrapper_use_tracer\u001b[39m\u001b[34m(*args, **kwargs)\u001b[39m\n\u001b[32m    117\u001b[39m \u001b[38;5;66;03m# If tracing is disabled globally and user didn't explicitly enable it, don't trace.\u001b[39;00m\n\u001b[32m    118\u001b[39m \u001b[38;5;28;01mif\u001b[39;00m user_enabled \u001b[38;5;129;01mis\u001b[39;00m \u001b[38;5;28;01mFalse\u001b[39;00m \u001b[38;5;129;01mor\u001b[39;00m (\u001b[38;5;129;01mnot\u001b[39;00m tracing_enabled \u001b[38;5;129;01mand\u001b[39;00m user_enabled \u001b[38;5;129;01mis\u001b[39;00m \u001b[38;5;28;01mNone\u001b[39;00m):\n\u001b[32m--> \u001b[39m\u001b[32m119\u001b[39m     \u001b[38;5;28;01mreturn\u001b[39;00m \u001b[38;5;28;01mawait\u001b[39;00m func(*args, **kwargs)\n\u001b[32m    121\u001b[39m \u001b[38;5;66;03m# Merge span is parameter is set, but only if no explicit parent are passed\u001b[39;00m\n\u001b[32m    122\u001b[39m \u001b[38;5;28;01mif\u001b[39;00m merge_span \u001b[38;5;129;01mand\u001b[39;00m \u001b[38;5;129;01mnot\u001b[39;00m passed_in_parent:\n",
      "\u001b[36mFile \u001b[39m\u001b[32m/workspaces/ai-agents-for-beginners/.venv/lib/python3.13/site-packages/azure/ai/agents/aio/operations/_patch.py:1435\u001b[39m, in \u001b[36mFilesOperations.upload\u001b[39m\u001b[34m(self, body, file, file_path, purpose, filename, **kwargs)\u001b[39m\n\u001b[32m   1432\u001b[39m     base_filename = filename \u001b[38;5;129;01mor\u001b[39;00m os.path.basename(file_path)\n\u001b[32m   1433\u001b[39m     file_content: FileType = (base_filename, content)\n\u001b[32m-> \u001b[39m\u001b[32m1435\u001b[39m     \u001b[38;5;28;01mreturn\u001b[39;00m \u001b[38;5;28;01mawait\u001b[39;00m \u001b[38;5;28msuper\u001b[39m()._upload_file(body={\u001b[33m\"\u001b[39m\u001b[33mfile\u001b[39m\u001b[33m\"\u001b[39m: file_content, \u001b[33m\"\u001b[39m\u001b[33mpurpose\u001b[39m\u001b[33m\"\u001b[39m: purpose}, **kwargs)\n\u001b[32m   1436\u001b[39m \u001b[38;5;28;01mexcept\u001b[39;00m \u001b[38;5;167;01mIOError\u001b[39;00m \u001b[38;5;28;01mas\u001b[39;00m e:\n\u001b[32m   1437\u001b[39m     \u001b[38;5;28;01mraise\u001b[39;00m \u001b[38;5;167;01mIOError\u001b[39;00m(\u001b[33mf\u001b[39m\u001b[33m\"\u001b[39m\u001b[33mUnable to read file: \u001b[39m\u001b[38;5;132;01m{\u001b[39;00mfile_path\u001b[38;5;132;01m}\u001b[39;00m\u001b[33m.\u001b[39m\u001b[33m\"\u001b[39m) \u001b[38;5;28;01mfrom\u001b[39;00m\u001b[38;5;250m \u001b[39m\u001b[34;01me\u001b[39;00m\n",
      "\u001b[36mFile \u001b[39m\u001b[32m/workspaces/ai-agents-for-beginners/.venv/lib/python3.13/site-packages/azure/core/tracing/decorator_async.py:119\u001b[39m, in \u001b[36mdistributed_trace_async.<locals>.decorator.<locals>.wrapper_use_tracer\u001b[39m\u001b[34m(*args, **kwargs)\u001b[39m\n\u001b[32m    117\u001b[39m \u001b[38;5;66;03m# If tracing is disabled globally and user didn't explicitly enable it, don't trace.\u001b[39;00m\n\u001b[32m    118\u001b[39m \u001b[38;5;28;01mif\u001b[39;00m user_enabled \u001b[38;5;129;01mis\u001b[39;00m \u001b[38;5;28;01mFalse\u001b[39;00m \u001b[38;5;129;01mor\u001b[39;00m (\u001b[38;5;129;01mnot\u001b[39;00m tracing_enabled \u001b[38;5;129;01mand\u001b[39;00m user_enabled \u001b[38;5;129;01mis\u001b[39;00m \u001b[38;5;28;01mNone\u001b[39;00m):\n\u001b[32m--> \u001b[39m\u001b[32m119\u001b[39m     \u001b[38;5;28;01mreturn\u001b[39;00m \u001b[38;5;28;01mawait\u001b[39;00m func(*args, **kwargs)\n\u001b[32m    121\u001b[39m \u001b[38;5;66;03m# Merge span is parameter is set, but only if no explicit parent are passed\u001b[39;00m\n\u001b[32m    122\u001b[39m \u001b[38;5;28;01mif\u001b[39;00m merge_span \u001b[38;5;129;01mand\u001b[39;00m \u001b[38;5;129;01mnot\u001b[39;00m passed_in_parent:\n",
      "\u001b[36mFile \u001b[39m\u001b[32m/workspaces/ai-agents-for-beginners/.venv/lib/python3.13/site-packages/azure/ai/agents/aio/operations/_operations.py:2419\u001b[39m, in \u001b[36mFilesOperations._upload_file\u001b[39m\u001b[34m(self, body, **kwargs)\u001b[39m\n\u001b[32m   2416\u001b[39m _request.url = \u001b[38;5;28mself\u001b[39m._client.format_url(_request.url, **path_format_arguments)\n\u001b[32m   2418\u001b[39m _stream = kwargs.pop(\u001b[33m\"\u001b[39m\u001b[33mstream\u001b[39m\u001b[33m\"\u001b[39m, \u001b[38;5;28;01mFalse\u001b[39;00m)\n\u001b[32m-> \u001b[39m\u001b[32m2419\u001b[39m pipeline_response: PipelineResponse = \u001b[38;5;28;01mawait\u001b[39;00m \u001b[38;5;28mself\u001b[39m._client._pipeline.run(  \u001b[38;5;66;03m# pylint: disable=protected-access\u001b[39;00m\n\u001b[32m   2420\u001b[39m     _request, stream=_stream, **kwargs\n\u001b[32m   2421\u001b[39m )\n\u001b[32m   2423\u001b[39m response = pipeline_response.http_response\n\u001b[32m   2425\u001b[39m \u001b[38;5;28;01mif\u001b[39;00m response.status_code \u001b[38;5;129;01mnot\u001b[39;00m \u001b[38;5;129;01min\u001b[39;00m [\u001b[32m200\u001b[39m]:\n",
      "\u001b[36mFile \u001b[39m\u001b[32m/workspaces/ai-agents-for-beginners/.venv/lib/python3.13/site-packages/azure/core/pipeline/_base_async.py:229\u001b[39m, in \u001b[36mAsyncPipeline.run\u001b[39m\u001b[34m(self, request, **kwargs)\u001b[39m\n\u001b[32m    227\u001b[39m pipeline_request = PipelineRequest(request, context)\n\u001b[32m    228\u001b[39m first_node = \u001b[38;5;28mself\u001b[39m._impl_policies[\u001b[32m0\u001b[39m] \u001b[38;5;28;01mif\u001b[39;00m \u001b[38;5;28mself\u001b[39m._impl_policies \u001b[38;5;28;01melse\u001b[39;00m _AsyncTransportRunner(\u001b[38;5;28mself\u001b[39m._transport)\n\u001b[32m--> \u001b[39m\u001b[32m229\u001b[39m \u001b[38;5;28;01mreturn\u001b[39;00m \u001b[38;5;28;01mawait\u001b[39;00m first_node.send(pipeline_request)\n",
      "\u001b[36mFile \u001b[39m\u001b[32m/workspaces/ai-agents-for-beginners/.venv/lib/python3.13/site-packages/azure/core/pipeline/_base_async.py:77\u001b[39m, in \u001b[36m_SansIOAsyncHTTPPolicyRunner.send\u001b[39m\u001b[34m(self, request)\u001b[39m\n\u001b[32m     75\u001b[39m response: PipelineResponse[HTTPRequestType, AsyncHTTPResponseType]\n\u001b[32m     76\u001b[39m \u001b[38;5;28;01mtry\u001b[39;00m:\n\u001b[32m---> \u001b[39m\u001b[32m77\u001b[39m     response = \u001b[38;5;28;01mawait\u001b[39;00m \u001b[38;5;28mself\u001b[39m.next.send(request)\n\u001b[32m     78\u001b[39m \u001b[38;5;28;01mexcept\u001b[39;00m \u001b[38;5;167;01mException\u001b[39;00m:\n\u001b[32m     79\u001b[39m     \u001b[38;5;28;01mawait\u001b[39;00m _await_result(\u001b[38;5;28mself\u001b[39m._policy.on_exception, request)\n",
      "\u001b[36mFile \u001b[39m\u001b[32m/workspaces/ai-agents-for-beginners/.venv/lib/python3.13/site-packages/azure/core/pipeline/_base_async.py:77\u001b[39m, in \u001b[36m_SansIOAsyncHTTPPolicyRunner.send\u001b[39m\u001b[34m(self, request)\u001b[39m\n\u001b[32m     75\u001b[39m response: PipelineResponse[HTTPRequestType, AsyncHTTPResponseType]\n\u001b[32m     76\u001b[39m \u001b[38;5;28;01mtry\u001b[39;00m:\n\u001b[32m---> \u001b[39m\u001b[32m77\u001b[39m     response = \u001b[38;5;28;01mawait\u001b[39;00m \u001b[38;5;28mself\u001b[39m.next.send(request)\n\u001b[32m     78\u001b[39m \u001b[38;5;28;01mexcept\u001b[39;00m \u001b[38;5;167;01mException\u001b[39;00m:\n\u001b[32m     79\u001b[39m     \u001b[38;5;28;01mawait\u001b[39;00m _await_result(\u001b[38;5;28mself\u001b[39m._policy.on_exception, request)\n",
      "    \u001b[31m[... skipping similar frames: _SansIOAsyncHTTPPolicyRunner.send at line 77 (2 times)]\u001b[39m\n",
      "\u001b[36mFile \u001b[39m\u001b[32m/workspaces/ai-agents-for-beginners/.venv/lib/python3.13/site-packages/azure/core/pipeline/_base_async.py:77\u001b[39m, in \u001b[36m_SansIOAsyncHTTPPolicyRunner.send\u001b[39m\u001b[34m(self, request)\u001b[39m\n\u001b[32m     75\u001b[39m response: PipelineResponse[HTTPRequestType, AsyncHTTPResponseType]\n\u001b[32m     76\u001b[39m \u001b[38;5;28;01mtry\u001b[39;00m:\n\u001b[32m---> \u001b[39m\u001b[32m77\u001b[39m     response = \u001b[38;5;28;01mawait\u001b[39;00m \u001b[38;5;28mself\u001b[39m.next.send(request)\n\u001b[32m     78\u001b[39m \u001b[38;5;28;01mexcept\u001b[39;00m \u001b[38;5;167;01mException\u001b[39;00m:\n\u001b[32m     79\u001b[39m     \u001b[38;5;28;01mawait\u001b[39;00m _await_result(\u001b[38;5;28mself\u001b[39m._policy.on_exception, request)\n",
      "\u001b[36mFile \u001b[39m\u001b[32m/workspaces/ai-agents-for-beginners/.venv/lib/python3.13/site-packages/azure/core/pipeline/policies/_redirect_async.py:76\u001b[39m, in \u001b[36mAsyncRedirectPolicy.send\u001b[39m\u001b[34m(self, request)\u001b[39m\n\u001b[32m     74\u001b[39m original_domain = get_domain(request.http_request.url) \u001b[38;5;28;01mif\u001b[39;00m redirect_settings[\u001b[33m\"\u001b[39m\u001b[33mallow\u001b[39m\u001b[33m\"\u001b[39m] \u001b[38;5;28;01melse\u001b[39;00m \u001b[38;5;28;01mNone\u001b[39;00m\n\u001b[32m     75\u001b[39m \u001b[38;5;28;01mwhile\u001b[39;00m redirects_remaining:\n\u001b[32m---> \u001b[39m\u001b[32m76\u001b[39m     response = \u001b[38;5;28;01mawait\u001b[39;00m \u001b[38;5;28mself\u001b[39m.next.send(request)\n\u001b[32m     77\u001b[39m     redirect_location = \u001b[38;5;28mself\u001b[39m.get_redirect_location(response)\n\u001b[32m     78\u001b[39m     \u001b[38;5;28;01mif\u001b[39;00m redirect_location \u001b[38;5;129;01mand\u001b[39;00m redirect_settings[\u001b[33m\"\u001b[39m\u001b[33mallow\u001b[39m\u001b[33m\"\u001b[39m]:\n",
      "\u001b[36mFile \u001b[39m\u001b[32m/workspaces/ai-agents-for-beginners/.venv/lib/python3.13/site-packages/azure/core/pipeline/policies/_retry_async.py:178\u001b[39m, in \u001b[36mAsyncRetryPolicy.send\u001b[39m\u001b[34m(self, request)\u001b[39m\n\u001b[32m    176\u001b[39m \u001b[38;5;28mself\u001b[39m._configure_timeout(request, absolute_timeout, is_response_error)\n\u001b[32m    177\u001b[39m request.context[\u001b[33m\"\u001b[39m\u001b[33mretry_count\u001b[39m\u001b[33m\"\u001b[39m] = \u001b[38;5;28mlen\u001b[39m(retry_settings[\u001b[33m\"\u001b[39m\u001b[33mhistory\u001b[39m\u001b[33m\"\u001b[39m])\n\u001b[32m--> \u001b[39m\u001b[32m178\u001b[39m response = \u001b[38;5;28;01mawait\u001b[39;00m \u001b[38;5;28mself\u001b[39m.next.send(request)\n\u001b[32m    179\u001b[39m \u001b[38;5;28;01mif\u001b[39;00m \u001b[38;5;28mself\u001b[39m.is_retry(retry_settings, response):\n\u001b[32m    180\u001b[39m     retry_active = \u001b[38;5;28mself\u001b[39m.increment(retry_settings, response=response)\n",
      "\u001b[36mFile \u001b[39m\u001b[32m/workspaces/ai-agents-for-beginners/.venv/lib/python3.13/site-packages/azure/core/pipeline/policies/_authentication_async.py:101\u001b[39m, in \u001b[36mAsyncBearerTokenCredentialPolicy.send\u001b[39m\u001b[34m(self, request)\u001b[39m\n\u001b[32m     91\u001b[39m \u001b[38;5;28;01masync\u001b[39;00m \u001b[38;5;28;01mdef\u001b[39;00m\u001b[38;5;250m \u001b[39m\u001b[34msend\u001b[39m(\n\u001b[32m     92\u001b[39m     \u001b[38;5;28mself\u001b[39m, request: PipelineRequest[HTTPRequestType]\n\u001b[32m     93\u001b[39m ) -> PipelineResponse[HTTPRequestType, AsyncHTTPResponseType]:\n\u001b[32m     94\u001b[39m \u001b[38;5;250m    \u001b[39m\u001b[33;03m\"\"\"Authorize request with a bearer token and send it to the next policy\u001b[39;00m\n\u001b[32m     95\u001b[39m \n\u001b[32m     96\u001b[39m \u001b[33;03m    :param request: The pipeline request object\u001b[39;00m\n\u001b[32m   (...)\u001b[39m\u001b[32m     99\u001b[39m \u001b[33;03m    :rtype: ~azure.core.pipeline.PipelineResponse\u001b[39;00m\n\u001b[32m    100\u001b[39m \u001b[33;03m    \"\"\"\u001b[39;00m\n\u001b[32m--> \u001b[39m\u001b[32m101\u001b[39m     \u001b[38;5;28;01mawait\u001b[39;00m await_result(\u001b[38;5;28mself\u001b[39m.on_request, request)\n\u001b[32m    102\u001b[39m     response: PipelineResponse[HTTPRequestType, AsyncHTTPResponseType]\n\u001b[32m    103\u001b[39m     \u001b[38;5;28;01mtry\u001b[39;00m:\n",
      "\u001b[36mFile \u001b[39m\u001b[32m/workspaces/ai-agents-for-beginners/.venv/lib/python3.13/site-packages/azure/core/pipeline/_tools_async.py:56\u001b[39m, in \u001b[36mawait_result\u001b[39m\u001b[34m(func, *args, **kwargs)\u001b[39m\n\u001b[32m     54\u001b[39m result = func(*args, **kwargs)\n\u001b[32m     55\u001b[39m \u001b[38;5;28;01mif\u001b[39;00m \u001b[38;5;28misinstance\u001b[39m(result, Awaitable):\n\u001b[32m---> \u001b[39m\u001b[32m56\u001b[39m     \u001b[38;5;28;01mreturn\u001b[39;00m \u001b[38;5;28;01mawait\u001b[39;00m result\n\u001b[32m     57\u001b[39m \u001b[38;5;28;01mreturn\u001b[39;00m result\n",
      "\u001b[36mFile \u001b[39m\u001b[32m/workspaces/ai-agents-for-beginners/.venv/lib/python3.13/site-packages/azure/core/pipeline/policies/_authentication_async.py:72\u001b[39m, in \u001b[36mAsyncBearerTokenCredentialPolicy.on_request\u001b[39m\u001b[34m(self, request)\u001b[39m\n\u001b[32m     69\u001b[39m     \u001b[38;5;28;01masync\u001b[39;00m \u001b[38;5;28;01mwith\u001b[39;00m \u001b[38;5;28mself\u001b[39m._lock:\n\u001b[32m     70\u001b[39m         \u001b[38;5;66;03m# double check because another coroutine may have acquired a token while we waited to acquire the lock\u001b[39;00m\n\u001b[32m     71\u001b[39m         \u001b[38;5;28;01mif\u001b[39;00m \u001b[38;5;28mself\u001b[39m._token \u001b[38;5;129;01mis\u001b[39;00m \u001b[38;5;28;01mNone\u001b[39;00m \u001b[38;5;129;01mor\u001b[39;00m \u001b[38;5;28mself\u001b[39m._need_new_token():\n\u001b[32m---> \u001b[39m\u001b[32m72\u001b[39m             \u001b[38;5;28;01mawait\u001b[39;00m \u001b[38;5;28mself\u001b[39m._request_token(*\u001b[38;5;28mself\u001b[39m._scopes)\n\u001b[32m     73\u001b[39m bearer_token = cast(Union[AccessToken, AccessTokenInfo], \u001b[38;5;28mself\u001b[39m._token).token\n\u001b[32m     74\u001b[39m request.http_request.headers[\u001b[33m\"\u001b[39m\u001b[33mAuthorization\u001b[39m\u001b[33m\"\u001b[39m] = \u001b[33m\"\u001b[39m\u001b[33mBearer \u001b[39m\u001b[33m\"\u001b[39m + bearer_token\n",
      "\u001b[36mFile \u001b[39m\u001b[32m/workspaces/ai-agents-for-beginners/.venv/lib/python3.13/site-packages/azure/core/pipeline/policies/_authentication_async.py:216\u001b[39m, in \u001b[36mAsyncBearerTokenCredentialPolicy._request_token\u001b[39m\u001b[34m(self, *scopes, **kwargs)\u001b[39m\n\u001b[32m    209\u001b[39m \u001b[38;5;28;01masync\u001b[39;00m \u001b[38;5;28;01mdef\u001b[39;00m\u001b[38;5;250m \u001b[39m\u001b[34m_request_token\u001b[39m(\u001b[38;5;28mself\u001b[39m, *scopes: \u001b[38;5;28mstr\u001b[39m, **kwargs: Any) -> \u001b[38;5;28;01mNone\u001b[39;00m:\n\u001b[32m    210\u001b[39m \u001b[38;5;250m    \u001b[39m\u001b[33;03m\"\"\"Request a new token from the credential.\u001b[39;00m\n\u001b[32m    211\u001b[39m \n\u001b[32m    212\u001b[39m \u001b[33;03m    This will call the credential's appropriate method to get a token and store it in the policy.\u001b[39;00m\n\u001b[32m    213\u001b[39m \n\u001b[32m    214\u001b[39m \u001b[33;03m    :param str scopes: The type of access needed.\u001b[39;00m\n\u001b[32m    215\u001b[39m \u001b[33;03m    \"\"\"\u001b[39;00m\n\u001b[32m--> \u001b[39m\u001b[32m216\u001b[39m     \u001b[38;5;28mself\u001b[39m._token = \u001b[38;5;28;01mawait\u001b[39;00m \u001b[38;5;28mself\u001b[39m._get_token(*scopes, **kwargs)\n",
      "\u001b[36mFile \u001b[39m\u001b[32m/workspaces/ai-agents-for-beginners/.venv/lib/python3.13/site-packages/azure/core/pipeline/policies/_authentication_async.py:198\u001b[39m, in \u001b[36mAsyncBearerTokenCredentialPolicy._get_token\u001b[39m\u001b[34m(self, *scopes, **kwargs)\u001b[39m\n\u001b[32m    195\u001b[39m         \u001b[38;5;28;01mif\u001b[39;00m key \u001b[38;5;129;01min\u001b[39;00m TokenRequestOptions.\u001b[34m__annotations__\u001b[39m:  \u001b[38;5;66;03m# pylint: disable=no-member\u001b[39;00m\n\u001b[32m    196\u001b[39m             options[key] = kwargs.pop(key)  \u001b[38;5;66;03m# type: ignore[literal-required]\u001b[39;00m\n\u001b[32m--> \u001b[39m\u001b[32m198\u001b[39m     \u001b[38;5;28;01mreturn\u001b[39;00m \u001b[38;5;28;01mawait\u001b[39;00m await_result(\n\u001b[32m    199\u001b[39m         cast(AsyncSupportsTokenInfo, \u001b[38;5;28mself\u001b[39m._credential).get_token_info,\n\u001b[32m    200\u001b[39m         *scopes,\n\u001b[32m    201\u001b[39m         options=options,\n\u001b[32m    202\u001b[39m     )\n\u001b[32m    203\u001b[39m \u001b[38;5;28;01mreturn\u001b[39;00m \u001b[38;5;28;01mawait\u001b[39;00m await_result(\n\u001b[32m    204\u001b[39m     cast(AsyncTokenCredential, \u001b[38;5;28mself\u001b[39m._credential).get_token,\n\u001b[32m    205\u001b[39m     *scopes,\n\u001b[32m    206\u001b[39m     **kwargs,\n\u001b[32m    207\u001b[39m )\n",
      "\u001b[36mFile \u001b[39m\u001b[32m/workspaces/ai-agents-for-beginners/.venv/lib/python3.13/site-packages/azure/core/pipeline/_tools_async.py:56\u001b[39m, in \u001b[36mawait_result\u001b[39m\u001b[34m(func, *args, **kwargs)\u001b[39m\n\u001b[32m     54\u001b[39m result = func(*args, **kwargs)\n\u001b[32m     55\u001b[39m \u001b[38;5;28;01mif\u001b[39;00m \u001b[38;5;28misinstance\u001b[39m(result, Awaitable):\n\u001b[32m---> \u001b[39m\u001b[32m56\u001b[39m     \u001b[38;5;28;01mreturn\u001b[39;00m \u001b[38;5;28;01mawait\u001b[39;00m result\n\u001b[32m     57\u001b[39m \u001b[38;5;28;01mreturn\u001b[39;00m result\n",
      "\u001b[36mFile \u001b[39m\u001b[32m/workspaces/ai-agents-for-beginners/.venv/lib/python3.13/site-packages/azure/identity/aio/_credentials/default.py:260\u001b[39m, in \u001b[36mDefaultAzureCredential.get_token_info\u001b[39m\u001b[34m(self, options, *scopes)\u001b[39m\n\u001b[32m    257\u001b[39m     \u001b[38;5;28;01mreturn\u001b[39;00m token_info\n\u001b[32m    259\u001b[39m within_dac.set(\u001b[38;5;28;01mTrue\u001b[39;00m)\n\u001b[32m--> \u001b[39m\u001b[32m260\u001b[39m token_info = \u001b[38;5;28;01mawait\u001b[39;00m cast(AsyncSupportsTokenInfo, \u001b[38;5;28msuper\u001b[39m()).get_token_info(*scopes, options=options)\n\u001b[32m    261\u001b[39m within_dac.set(\u001b[38;5;28;01mFalse\u001b[39;00m)\n\u001b[32m    262\u001b[39m \u001b[38;5;28;01mreturn\u001b[39;00m token_info\n",
      "\u001b[36mFile \u001b[39m\u001b[32m/workspaces/ai-agents-for-beginners/.venv/lib/python3.13/site-packages/azure/identity/aio/_credentials/chained.py:192\u001b[39m, in \u001b[36mChainedTokenCredential.get_token_info\u001b[39m\u001b[34m(self, options, *scopes)\u001b[39m\n\u001b[32m    184\u001b[39m message = (\n\u001b[32m    185\u001b[39m     \u001b[38;5;28mself\u001b[39m.\u001b[34m__class__\u001b[39m.\u001b[34m__name__\u001b[39m\n\u001b[32m    186\u001b[39m     + \u001b[33m\"\u001b[39m\u001b[33m failed to retrieve a token from the included credentials.\u001b[39m\u001b[33m\"\u001b[39m\n\u001b[32m   (...)\u001b[39m\u001b[32m    189\u001b[39m     \u001b[33m\"\u001b[39m\u001b[33mhttps://aka.ms/azsdk/python/identity/defaultazurecredential/troubleshoot.\u001b[39m\u001b[33m\"\u001b[39m\n\u001b[32m    190\u001b[39m )\n\u001b[32m    191\u001b[39m _LOGGER.warning(message)\n\u001b[32m--> \u001b[39m\u001b[32m192\u001b[39m \u001b[38;5;28;01mraise\u001b[39;00m ClientAuthenticationError(message=message)\n",
      "\u001b[31mClientAuthenticationError\u001b[39m: DefaultAzureCredential failed to retrieve a token from the included credentials.\nAttempted credentials:\n\tEnvironmentCredential: EnvironmentCredential authentication unavailable. Environment variables are not fully configured.\nVisit https://aka.ms/azsdk/python/identity/environmentcredential/troubleshoot to troubleshoot this issue.\n\tManagedIdentityCredential: ManagedIdentityCredential authentication unavailable. The requested identity has not been assigned to this resource. Error: Unexpected response \"{'error': 'invalid_request', 'error_description': 'Identity not found'}\"\n\tSharedTokenCacheCredential: SharedTokenCacheCredential authentication unavailable. No accounts were found in the cache.\n\tAzureCliCredential: ERROR: AADSTS70043: The refresh token has expired or is invalid due to sign-in frequency checks by conditional access. The token was issued on 2025-07-18T03:03:45.4791579Z and the maximum allowed lifetime for this request is 43200. Trace ID: 98c9c620-c92e-4c82-bef9-ac5199332c00 Correlation ID: ea14d151-4fc4-4e64-8068-96f3f51a97ca Timestamp: 2025-07-22 02:43:21Z\nInteractive authentication is needed. Please run:\naz login --scope https://ai.azure.com/.default\n\n\tAzurePowerShellCredential: PowerShell is not installed\n\tAzureDeveloperCliCredential: Azure Developer CLI could not be found. Please visit https://aka.ms/azure-dev for installation instructions and then,once installed, authenticate to your Azure account using 'azd auth login'.\nTo mitigate this issue, please refer to the troubleshooting guidelines here at https://aka.ms/azsdk/python/identity/defaultazurecredential/troubleshoot."
     ]
    }
   ],
   "source": [
    "async def main():\n",
    "    async with (\n",
    "        DefaultAzureCredential() as creds,\n",
    "        AzureAIAgent.create_client(credential=creds,endpoint=os.environ.get(\"AZURE_OPENAI_ENDPOINT\")) as client,\n",
    "    ):\n",
    "        file: FileDatasetVersion = await client.agents.files.upload_and_poll(file_path=\"document.md\", purpose=\"assistants\")\n",
    "        vector_store: AzureAISearchIndex = await client.agents.create_vector_store_and_poll(\n",
    "            file_ids=[file.id], name=\"my_vectorstore\"\n",
    "        )\n",
    "\n",
    "        # Define agent name and instructions tailored for RAG.\n",
    "        AGENT_NAME = \"RAGAgent\"\n",
    "        AGENT_INSTRUCTIONS = \"\"\"\n",
    "        You are an AI assistant designed to answer user questions using only the information retrieved from the provided document(s).\n",
    "\n",
    "        - If a user's question cannot be answered using the retrieved context, **you must clearly respond**: \n",
    "        \"I'm sorry, but the uploaded document does not contain the necessary information to answer that question.\"\n",
    "        - Do not answer from general knowledge or reasoning. Do not make assumptions or generate hypothetical explanations.\n",
    "        - Do not provide definitions, tutorials, or commentary that is not explicitly grounded in the content of the uploaded file(s).\n",
    "        - If a user asks a question like \"What is a Neural Network?\", and this is not discussed in the uploaded document, respond as instructed above.\n",
    "        - For questions that do have relevant content in the document (e.g., Contoso's travel insurance coverage), respond accurately, and cite the document explicitly.\n",
    "\n",
    "        You must behave as if you have no external knowledge beyond what is retrieved from the uploaded document.\n",
    "        \"\"\"\n",
    "\n",
    "        \n",
    "        # Create file search tool with uploaded resources\n",
    "        file_search = FileDatasetVersion(vector_store_ids=[vector_store.id])\n",
    "\n",
    "        # 3. Create an agent on the Azure AI agent service with the file search tool\n",
    "        agent_definition = await client.agents.create_agent(\n",
    "            model=\"gpt-4o\",  # This model should match your Azure OpenAI deployment.\n",
    "            name=AGENT_NAME,\n",
    "            instructions=AGENT_INSTRUCTIONS,\n",
    "            tools=file_search.definitions,\n",
    "            tool_resources=file_search.resources,\n",
    "        )\n",
    "        \n",
    "        # Create the Azure AI Agent using the client and definition.\n",
    "        agent = AzureAIAgent(\n",
    "            client=client,\n",
    "            definition=agent_definition,\n",
    "        )\n",
    "        \n",
    "        # Create a thread to hold the conversation\n",
    "        # If no thread is provided, a new thread will be\n",
    "        # created and returned with the initial response\n",
    "        thread: AzureAIAgentThread | None = None\n",
    "        \n",
    "        # Example user queries.\n",
    "        user_inputs = [\n",
    "            \"Can you explain Contoso's travel insurance coverage?\",  # Relevant context.\n",
    "            \"What is a Neural Network?\"  # No relevant context from the document. Will not contain a source annotation.\n",
    "        ]\n",
    "        \n",
    "        try:\n",
    "            for user_input in user_inputs:\n",
    "                print(f\"# User: '{user_input}'\")\n",
    "                # Invoke the agent for the specified thread for response\n",
    "                async for response in agent.invoke(messages=user_input, thread=thread):\n",
    "                    print(f\"# {response.name}: {response}\")\n",
    "                    thread = response.thread\n",
    "        finally:\n",
    "            # Clean up resources.\n",
    "            await thread.delete() if thread else None\n",
    "            await client.agents.delete_vector_store(vector_store.id)\n",
    "            await client.agents.delete_file(file.id)\n",
    "            await client.agents.delete_agent(agent.id)\n",
    "            print(\"\\nCleaned up agent, thread, file, and vector store.\")\n",
    "\n",
    "await main()"
   ]
  },
  {
   "cell_type": "markdown",
   "metadata": {},
   "source": [
    "You should see output similar to:\n",
    "\n",
    "```\n",
    "# User: 'Can you explain Contoso's travel insurance coverage?'\n",
    "# Agent: Contoso's travel insurance coverage includes protection for medical emergencies, trip cancellations, and lost baggage【4:0†document.md】.\n",
    "# User: 'What is a Neural Network?'\n",
    "# Agent: I'm sorry, but the uploaded document does not contain the necessary information to answer that question.\n",
    "\n",
    "Cleaned up agent, thread, file, and vector store.\n",
    "```"
   ]
  }
 ],
 "metadata": {
  "kernelspec": {
   "display_name": ".venv",
   "language": "python",
   "name": "python3"
  },
  "language_info": {
   "codemirror_mode": {
    "name": "ipython",
    "version": 3
   },
   "file_extension": ".py",
   "mimetype": "text/x-python",
   "name": "python",
   "nbconvert_exporter": "python",
   "pygments_lexer": "ipython3",
   "version": "3.13.5"
  }
 },
 "nbformat": 4,
 "nbformat_minor": 2
}
